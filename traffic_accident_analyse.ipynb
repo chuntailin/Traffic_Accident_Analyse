{
 "cells": [
  {
   "cell_type": "code",
   "execution_count": 1,
   "metadata": {
    "collapsed": false
   },
   "outputs": [
    {
     "data": {
      "text/html": [
       "<div>\n",
       "<table border=\"1\" class=\"dataframe\">\n",
       "  <thead>\n",
       "    <tr style=\"text-align: right;\">\n",
       "      <th></th>\n",
       "      <th>發生年</th>\n",
       "      <th>發生月</th>\n",
       "      <th>發生日</th>\n",
       "      <th>發生時</th>\n",
       "      <th>發生分</th>\n",
       "      <th>處理別</th>\n",
       "      <th>區序</th>\n",
       "      <th>肇事地點</th>\n",
       "      <th>死亡人數</th>\n",
       "      <th>受傷人數</th>\n",
       "      <th>當事人序</th>\n",
       "      <th>車種</th>\n",
       "      <th>性別</th>\n",
       "      <th>年齡</th>\n",
       "      <th>受傷程度</th>\n",
       "      <th>天候</th>\n",
       "      <th>速限</th>\n",
       "      <th>道路型態</th>\n",
       "      <th>事故位置</th>\n",
       "    </tr>\n",
       "  </thead>\n",
       "  <tbody>\n",
       "    <tr>\n",
       "      <th>0</th>\n",
       "      <td>104</td>\n",
       "      <td>1</td>\n",
       "      <td>1</td>\n",
       "      <td>0</td>\n",
       "      <td>18</td>\n",
       "      <td>2</td>\n",
       "      <td>08士林區</td>\n",
       "      <td>東山路25巷編號097號燈桿前</td>\n",
       "      <td>0</td>\n",
       "      <td>3</td>\n",
       "      <td>1</td>\n",
       "      <td>C03</td>\n",
       "      <td>1</td>\n",
       "      <td>19.0</td>\n",
       "      <td>2.0</td>\n",
       "      <td>8.0</td>\n",
       "      <td>30.0</td>\n",
       "      <td>15.0</td>\n",
       "      <td>9.0</td>\n",
       "    </tr>\n",
       "    <tr>\n",
       "      <th>1</th>\n",
       "      <td>104</td>\n",
       "      <td>1</td>\n",
       "      <td>1</td>\n",
       "      <td>0</td>\n",
       "      <td>18</td>\n",
       "      <td>2</td>\n",
       "      <td>08士林區</td>\n",
       "      <td>東山路25巷編號097號燈桿前</td>\n",
       "      <td>0</td>\n",
       "      <td>3</td>\n",
       "      <td>2</td>\n",
       "      <td>C03</td>\n",
       "      <td>1</td>\n",
       "      <td>18.0</td>\n",
       "      <td>2.0</td>\n",
       "      <td>8.0</td>\n",
       "      <td>30.0</td>\n",
       "      <td>15.0</td>\n",
       "      <td>9.0</td>\n",
       "    </tr>\n",
       "    <tr>\n",
       "      <th>2</th>\n",
       "      <td>104</td>\n",
       "      <td>1</td>\n",
       "      <td>1</td>\n",
       "      <td>0</td>\n",
       "      <td>18</td>\n",
       "      <td>2</td>\n",
       "      <td>08士林區</td>\n",
       "      <td>東山路25巷編號097號燈桿前</td>\n",
       "      <td>0</td>\n",
       "      <td>3</td>\n",
       "      <td>3</td>\n",
       "      <td>C03</td>\n",
       "      <td>1</td>\n",
       "      <td>19.0</td>\n",
       "      <td>3.0</td>\n",
       "      <td>8.0</td>\n",
       "      <td>30.0</td>\n",
       "      <td>15.0</td>\n",
       "      <td>9.0</td>\n",
       "    </tr>\n",
       "    <tr>\n",
       "      <th>3</th>\n",
       "      <td>104</td>\n",
       "      <td>1</td>\n",
       "      <td>1</td>\n",
       "      <td>0</td>\n",
       "      <td>18</td>\n",
       "      <td>2</td>\n",
       "      <td>08士林區</td>\n",
       "      <td>東山路25巷編號097號燈桿前</td>\n",
       "      <td>0</td>\n",
       "      <td>3</td>\n",
       "      <td>4</td>\n",
       "      <td>H02</td>\n",
       "      <td>2</td>\n",
       "      <td>20.0</td>\n",
       "      <td>2.0</td>\n",
       "      <td>8.0</td>\n",
       "      <td>30.0</td>\n",
       "      <td>15.0</td>\n",
       "      <td>9.0</td>\n",
       "    </tr>\n",
       "    <tr>\n",
       "      <th>4</th>\n",
       "      <td>104</td>\n",
       "      <td>1</td>\n",
       "      <td>1</td>\n",
       "      <td>1</td>\n",
       "      <td>37</td>\n",
       "      <td>2</td>\n",
       "      <td>10文山區</td>\n",
       "      <td>木柵路4段 秀明路</td>\n",
       "      <td>0</td>\n",
       "      <td>2</td>\n",
       "      <td>1</td>\n",
       "      <td>B03</td>\n",
       "      <td>1</td>\n",
       "      <td>51.0</td>\n",
       "      <td>3.0</td>\n",
       "      <td>8.0</td>\n",
       "      <td>50.0</td>\n",
       "      <td>4.0</td>\n",
       "      <td>1.0</td>\n",
       "    </tr>\n",
       "  </tbody>\n",
       "</table>\n",
       "</div>"
      ],
      "text/plain": [
       "   發生年  發生月  發生日  發生時  發生分  處理別     區序             肇事地點  死亡人數  受傷人數  當事人序  \\\n",
       "0  104    1    1    0   18    2  08士林區  東山路25巷編號097號燈桿前     0     3     1   \n",
       "1  104    1    1    0   18    2  08士林區  東山路25巷編號097號燈桿前     0     3     2   \n",
       "2  104    1    1    0   18    2  08士林區  東山路25巷編號097號燈桿前     0     3     3   \n",
       "3  104    1    1    0   18    2  08士林區  東山路25巷編號097號燈桿前     0     3     4   \n",
       "4  104    1    1    1   37    2  10文山區        木柵路4段 秀明路     0     2     1   \n",
       "\n",
       "    車種  性別    年齡  受傷程度   天候    速限  道路型態  事故位置  \n",
       "0  C03   1  19.0   2.0  8.0  30.0  15.0   9.0  \n",
       "1  C03   1  18.0   2.0  8.0  30.0  15.0   9.0  \n",
       "2  C03   1  19.0   3.0  8.0  30.0  15.0   9.0  \n",
       "3  H02   2  20.0   2.0  8.0  30.0  15.0   9.0  \n",
       "4  B03   1  51.0   3.0  8.0  50.0   4.0   1.0  "
      ]
     },
     "execution_count": 1,
     "metadata": {},
     "output_type": "execute_result"
    }
   ],
   "source": [
    "import pandas as pd\n",
    "import numpy as np\n",
    "import matplotlib.pyplot as plt\n",
    "\n",
    "%matplotlib inline\n",
    "\n",
    "#修改matplotlib font配置，不讓圖例出現中文亂碼\n",
    "#https://www.zhihu.com/question/25404709\n",
    "\n",
    "tra_df = pd.read_csv(\"traffic_accident.csv\", encoding=\"big5\")\n",
    "tra_df.head()"
   ]
  },
  {
   "cell_type": "code",
   "execution_count": 2,
   "metadata": {
    "collapsed": false
   },
   "outputs": [
    {
     "data": {
      "text/plain": [
       "發生年     False\n",
       "發生月     False\n",
       "發生日     False\n",
       "發生時     False\n",
       "發生分     False\n",
       "處理別     False\n",
       "區序      False\n",
       "肇事地點    False\n",
       "死亡人數    False\n",
       "受傷人數    False\n",
       "當事人序    False\n",
       "車種       True\n",
       "性別      False\n",
       "年齡       True\n",
       "受傷程度     True\n",
       "天候       True\n",
       "速限       True\n",
       "道路型態     True\n",
       "事故位置     True\n",
       "dtype: bool"
      ]
     },
     "execution_count": 2,
     "metadata": {},
     "output_type": "execute_result"
    }
   ],
   "source": [
    "tra_df.isnull().any()"
   ]
  },
  {
   "cell_type": "code",
   "execution_count": 3,
   "metadata": {
    "collapsed": false
   },
   "outputs": [
    {
     "data": {
      "text/plain": [
       "發生年       int64\n",
       "發生月       int64\n",
       "發生日       int64\n",
       "發生時       int64\n",
       "發生分       int64\n",
       "處理別       int64\n",
       "區序       object\n",
       "肇事地點     object\n",
       "死亡人數      int64\n",
       "受傷人數      int64\n",
       "當事人序      int64\n",
       "車種       object\n",
       "性別        int64\n",
       "年齡      float64\n",
       "受傷程度    float64\n",
       "天候      float64\n",
       "速限      float64\n",
       "道路型態    float64\n",
       "事故位置    float64\n",
       "dtype: object"
      ]
     },
     "execution_count": 3,
     "metadata": {},
     "output_type": "execute_result"
    }
   ],
   "source": [
    "tra_df.dtypes"
   ]
  },
  {
   "cell_type": "markdown",
   "metadata": {},
   "source": [
    "### Forward fill missing value"
   ]
  },
  {
   "cell_type": "code",
   "execution_count": 4,
   "metadata": {
    "collapsed": false
   },
   "outputs": [
    {
     "data": {
      "text/plain": [
       "發生年     False\n",
       "發生月     False\n",
       "發生日     False\n",
       "發生時     False\n",
       "發生分     False\n",
       "處理別     False\n",
       "區序      False\n",
       "肇事地點    False\n",
       "死亡人數    False\n",
       "受傷人數    False\n",
       "當事人序    False\n",
       "車種      False\n",
       "性別      False\n",
       "年齡      False\n",
       "受傷程度    False\n",
       "天候      False\n",
       "速限      False\n",
       "道路型態    False\n",
       "事故位置    False\n",
       "dtype: bool"
      ]
     },
     "execution_count": 4,
     "metadata": {},
     "output_type": "execute_result"
    }
   ],
   "source": [
    "#pad = forward fill, bfill = backward fill \n",
    "tra_df = tra_df.fillna(method=\"pad\")\n",
    "tra_df.isnull().any()\n"
   ]
  },
  {
   "cell_type": "markdown",
   "metadata": {},
   "source": [
    "### 資料清除與選擇"
   ]
  },
  {
   "cell_type": "code",
   "execution_count": 5,
   "metadata": {
    "collapsed": false
   },
   "outputs": [],
   "source": [
    "#clean data when 性別 = 3 or 4\n",
    "tra_df = tra_df[tra_df[\"性別\"] != 3]\n",
    "tra_df = tra_df[tra_df[\"性別\"] != 4]\n",
    "\n",
    "#clean data when 天候 = 1~5\n",
    "tra_df = tra_df[tra_df[\"天候\"] != 1]\n",
    "tra_df = tra_df[tra_df[\"天候\"] != 2]\n",
    "tra_df = tra_df[tra_df[\"天候\"] != 3]\n",
    "tra_df = tra_df[tra_df[\"天候\"] != 4]\n",
    "tra_df = tra_df[tra_df[\"天候\"] != 5]\n"
   ]
  },
  {
   "cell_type": "markdown",
   "metadata": {},
   "source": [
    "### 減少車種分類複雜化"
   ]
  },
  {
   "cell_type": "code",
   "execution_count": 6,
   "metadata": {
    "collapsed": false
   },
   "outputs": [
    {
     "data": {
      "text/html": [
       "<div>\n",
       "<table border=\"1\" class=\"dataframe\">\n",
       "  <thead>\n",
       "    <tr style=\"text-align: right;\">\n",
       "      <th></th>\n",
       "      <th>index</th>\n",
       "      <th>發生年</th>\n",
       "      <th>發生月</th>\n",
       "      <th>發生日</th>\n",
       "      <th>發生時</th>\n",
       "      <th>發生分</th>\n",
       "      <th>處理別</th>\n",
       "      <th>區序</th>\n",
       "      <th>肇事地點</th>\n",
       "      <th>死亡人數</th>\n",
       "      <th>...</th>\n",
       "      <th>當事人序</th>\n",
       "      <th>車種</th>\n",
       "      <th>性別</th>\n",
       "      <th>年齡</th>\n",
       "      <th>受傷程度</th>\n",
       "      <th>天候</th>\n",
       "      <th>速限</th>\n",
       "      <th>道路型態</th>\n",
       "      <th>事故位置</th>\n",
       "      <th>車種類</th>\n",
       "    </tr>\n",
       "  </thead>\n",
       "  <tbody>\n",
       "    <tr>\n",
       "      <th>0</th>\n",
       "      <td>0</td>\n",
       "      <td>104</td>\n",
       "      <td>1</td>\n",
       "      <td>1</td>\n",
       "      <td>0</td>\n",
       "      <td>18</td>\n",
       "      <td>2</td>\n",
       "      <td>08士林區</td>\n",
       "      <td>東山路25巷編號097號燈桿前</td>\n",
       "      <td>0</td>\n",
       "      <td>...</td>\n",
       "      <td>1</td>\n",
       "      <td>C03</td>\n",
       "      <td>1</td>\n",
       "      <td>19.0</td>\n",
       "      <td>2.0</td>\n",
       "      <td>8.0</td>\n",
       "      <td>30.0</td>\n",
       "      <td>15.0</td>\n",
       "      <td>9.0</td>\n",
       "      <td>機車</td>\n",
       "    </tr>\n",
       "    <tr>\n",
       "      <th>1</th>\n",
       "      <td>1</td>\n",
       "      <td>104</td>\n",
       "      <td>1</td>\n",
       "      <td>1</td>\n",
       "      <td>0</td>\n",
       "      <td>18</td>\n",
       "      <td>2</td>\n",
       "      <td>08士林區</td>\n",
       "      <td>東山路25巷編號097號燈桿前</td>\n",
       "      <td>0</td>\n",
       "      <td>...</td>\n",
       "      <td>2</td>\n",
       "      <td>C03</td>\n",
       "      <td>1</td>\n",
       "      <td>18.0</td>\n",
       "      <td>2.0</td>\n",
       "      <td>8.0</td>\n",
       "      <td>30.0</td>\n",
       "      <td>15.0</td>\n",
       "      <td>9.0</td>\n",
       "      <td>機車</td>\n",
       "    </tr>\n",
       "    <tr>\n",
       "      <th>2</th>\n",
       "      <td>2</td>\n",
       "      <td>104</td>\n",
       "      <td>1</td>\n",
       "      <td>1</td>\n",
       "      <td>0</td>\n",
       "      <td>18</td>\n",
       "      <td>2</td>\n",
       "      <td>08士林區</td>\n",
       "      <td>東山路25巷編號097號燈桿前</td>\n",
       "      <td>0</td>\n",
       "      <td>...</td>\n",
       "      <td>3</td>\n",
       "      <td>C03</td>\n",
       "      <td>1</td>\n",
       "      <td>19.0</td>\n",
       "      <td>3.0</td>\n",
       "      <td>8.0</td>\n",
       "      <td>30.0</td>\n",
       "      <td>15.0</td>\n",
       "      <td>9.0</td>\n",
       "      <td>機車</td>\n",
       "    </tr>\n",
       "    <tr>\n",
       "      <th>3</th>\n",
       "      <td>3</td>\n",
       "      <td>104</td>\n",
       "      <td>1</td>\n",
       "      <td>1</td>\n",
       "      <td>0</td>\n",
       "      <td>18</td>\n",
       "      <td>2</td>\n",
       "      <td>08士林區</td>\n",
       "      <td>東山路25巷編號097號燈桿前</td>\n",
       "      <td>0</td>\n",
       "      <td>...</td>\n",
       "      <td>4</td>\n",
       "      <td>H02</td>\n",
       "      <td>2</td>\n",
       "      <td>20.0</td>\n",
       "      <td>2.0</td>\n",
       "      <td>8.0</td>\n",
       "      <td>30.0</td>\n",
       "      <td>15.0</td>\n",
       "      <td>9.0</td>\n",
       "      <td>其他</td>\n",
       "    </tr>\n",
       "    <tr>\n",
       "      <th>4</th>\n",
       "      <td>4</td>\n",
       "      <td>104</td>\n",
       "      <td>1</td>\n",
       "      <td>1</td>\n",
       "      <td>1</td>\n",
       "      <td>37</td>\n",
       "      <td>2</td>\n",
       "      <td>10文山區</td>\n",
       "      <td>木柵路4段 秀明路</td>\n",
       "      <td>0</td>\n",
       "      <td>...</td>\n",
       "      <td>1</td>\n",
       "      <td>B03</td>\n",
       "      <td>1</td>\n",
       "      <td>51.0</td>\n",
       "      <td>3.0</td>\n",
       "      <td>8.0</td>\n",
       "      <td>50.0</td>\n",
       "      <td>4.0</td>\n",
       "      <td>1.0</td>\n",
       "      <td>小型車</td>\n",
       "    </tr>\n",
       "  </tbody>\n",
       "</table>\n",
       "<p>5 rows × 21 columns</p>\n",
       "</div>"
      ],
      "text/plain": [
       "   index  發生年  發生月  發生日  發生時  發生分  處理別     區序             肇事地點  死亡人數 ...   \\\n",
       "0      0  104    1    1    0   18    2  08士林區  東山路25巷編號097號燈桿前     0 ...    \n",
       "1      1  104    1    1    0   18    2  08士林區  東山路25巷編號097號燈桿前     0 ...    \n",
       "2      2  104    1    1    0   18    2  08士林區  東山路25巷編號097號燈桿前     0 ...    \n",
       "3      3  104    1    1    0   18    2  08士林區  東山路25巷編號097號燈桿前     0 ...    \n",
       "4      4  104    1    1    1   37    2  10文山區        木柵路4段 秀明路     0 ...    \n",
       "\n",
       "   當事人序   車種 性別    年齡  受傷程度   天候    速限  道路型態  事故位置  車種類  \n",
       "0     1  C03  1  19.0   2.0  8.0  30.0  15.0   9.0   機車  \n",
       "1     2  C03  1  18.0   2.0  8.0  30.0  15.0   9.0   機車  \n",
       "2     3  C03  1  19.0   3.0  8.0  30.0  15.0   9.0   機車  \n",
       "3     4  H02  2  20.0   2.0  8.0  30.0  15.0   9.0   其他  \n",
       "4     1  B03  1  51.0   3.0  8.0  50.0   4.0   1.0  小型車  \n",
       "\n",
       "[5 rows x 21 columns]"
      ]
     },
     "execution_count": 6,
     "metadata": {},
     "output_type": "execute_result"
    }
   ],
   "source": [
    "tra_df = tra_df.reset_index()\n",
    "tra_df[\"車種類\"] = \"其他\" \n",
    "\n",
    "#group 車種 column\n",
    "for i in range(0, len(tra_df)):\n",
    "    if tra_df[\"車種\"][i][:1] == \"A\" or tra_df[\"車種\"][i] == \"D01\" or tra_df[\"車種\"][i] == \"D02\":\n",
    "        tra_df.ix[i,\"車種類\"] = \"大客車\"\n",
    "    elif tra_df[\"車種\"][i][:1] == \"B\" or tra_df[\"車種\"][i] == \"D03\":\n",
    "        tra_df.ix[i,\"車種類\"] = \"小型車\"\n",
    "    elif tra_df[\"車種\"][i][:1] == \"C\":\n",
    "        tra_df.ix[i,\"車種類\"] = \"機車\"\n",
    "    elif tra_df[\"車種\"][i][:1] == \"E\":\n",
    "        tra_df.ix[i,\"車種類\"] = \"特種車\"\n",
    "    elif tra_df[\"車種\"][i][:1] == \"F\":\n",
    "        tra_df.ix[i,\"車種類\"] = \"腳踏車\"\n",
    "    elif tra_df[\"車種\"][i][:1] == \"G\" or tra_df[\"車種\"][i][:1] == \"H\":\n",
    "        tra_df.ix[i,\"車種類\"] = \"其他\"\n",
    "        \n",
    "tra_df.head()\n"
   ]
  },
  {
   "cell_type": "markdown",
   "metadata": {},
   "source": [
    "### 統計車種類型發生交通意外次數"
   ]
  },
  {
   "cell_type": "code",
   "execution_count": 7,
   "metadata": {
    "collapsed": false
   },
   "outputs": [
    {
     "data": {
      "text/html": [
       "<div>\n",
       "<table border=\"1\" class=\"dataframe\">\n",
       "  <thead>\n",
       "    <tr style=\"text-align: right;\">\n",
       "      <th></th>\n",
       "      <th>次數</th>\n",
       "    </tr>\n",
       "  </thead>\n",
       "  <tbody>\n",
       "    <tr>\n",
       "      <th>機車</th>\n",
       "      <td>24821</td>\n",
       "    </tr>\n",
       "    <tr>\n",
       "      <th>小型車</th>\n",
       "      <td>15362</td>\n",
       "    </tr>\n",
       "    <tr>\n",
       "      <th>其他</th>\n",
       "      <td>6247</td>\n",
       "    </tr>\n",
       "    <tr>\n",
       "      <th>腳踏車</th>\n",
       "      <td>1267</td>\n",
       "    </tr>\n",
       "    <tr>\n",
       "      <th>大客車</th>\n",
       "      <td>737</td>\n",
       "    </tr>\n",
       "    <tr>\n",
       "      <th>特種車</th>\n",
       "      <td>35</td>\n",
       "    </tr>\n",
       "  </tbody>\n",
       "</table>\n",
       "</div>"
      ],
      "text/plain": [
       "        次數\n",
       "機車   24821\n",
       "小型車  15362\n",
       "其他    6247\n",
       "腳踏車   1267\n",
       "大客車    737\n",
       "特種車     35"
      ]
     },
     "execution_count": 7,
     "metadata": {},
     "output_type": "execute_result"
    },
    {
     "data": {
      "image/png": "[encoded data removed]",
      "text/plain": [
       "<matplotlib.figure.Figure at 0x116684dd8>"
      ]
     },
     "metadata": {},
     "output_type": "display_data"
    }
   ],
   "source": [
    "car_df = pd.DataFrame(tra_df[\"車種類\"].value_counts())\n",
    "car_df.columns = [\"次數\"]\n",
    "car_ax = car_df.plot(kind=\"barh\", title=\"車種類型發生交通意外次數\", color='#FF8888')\n",
    "\n",
    "car_ax.set_xlabel(\"次數\")\n",
    "car_ax.set_ylabel(\"車種類型\")\n",
    "\n",
    "car_df"
   ]
  },
  {
   "cell_type": "markdown",
   "metadata": {},
   "source": [
    "### 統計性別發生交通意外次數"
   ]
  },
  {
   "cell_type": "code",
   "execution_count": 8,
   "metadata": {
    "collapsed": false,
    "scrolled": false
   },
   "outputs": [
    {
     "data": {
      "text/html": [
       "<div>\n",
       "<table border=\"1\" class=\"dataframe\">\n",
       "  <thead>\n",
       "    <tr style=\"text-align: right;\">\n",
       "      <th></th>\n",
       "      <th>比例</th>\n",
       "    </tr>\n",
       "  </thead>\n",
       "  <tbody>\n",
       "    <tr>\n",
       "      <th>男</th>\n",
       "      <td>0.707318</td>\n",
       "    </tr>\n",
       "    <tr>\n",
       "      <th>女</th>\n",
       "      <td>0.292682</td>\n",
       "    </tr>\n",
       "  </tbody>\n",
       "</table>\n",
       "</div>"
      ],
      "text/plain": [
       "         比例\n",
       "男  0.707318\n",
       "女  0.292682"
      ]
     },
     "execution_count": 8,
     "metadata": {},
     "output_type": "execute_result"
    },
    {
     "data": {
      "image/png": "[encoded data removed]",
      "text/plain": [
       "<matplotlib.figure.Figure at 0x114a91a20>"
      ]
     },
     "metadata": {},
     "output_type": "display_data"
    }
   ],
   "source": [
    "gender_df = pd.DataFrame(tra_df[\"性別\"].value_counts())\n",
    "gender_df.columns = [\"比例\"]\n",
    "gender_df.index = [\"男\", \"女\"]\n",
    "\n",
    "total_sum = gender_df[\"比例\"].sum()\n",
    "male_ratio = gender_df[\"比例\"][0] / total_sum\n",
    "female_ratio = gender_df[\"比例\"][1] / total_sum\n",
    "\n",
    "gender_df[\"比例\"] = [male_ratio, female_ratio]\n",
    "\n",
    "gender_ax = gender_df.plot.pie(title=\"性別發生交通意外比例\", subplots=True, autopct=\"%.2f\", colors=[\"#77DDFF\",\"#FF8888\"])\n",
    "gender_df"
   ]
  },
  {
   "cell_type": "markdown",
   "metadata": {},
   "source": [
    "### 統計各年齡層發生意外次數"
   ]
  },
  {
   "cell_type": "code",
   "execution_count": 9,
   "metadata": {
    "collapsed": false
   },
   "outputs": [
    {
     "data": {
      "text/html": [
       "<div>\n",
       "<table border=\"1\" class=\"dataframe\">\n",
       "  <thead>\n",
       "    <tr style=\"text-align: right;\">\n",
       "      <th></th>\n",
       "      <th>年齡組</th>\n",
       "    </tr>\n",
       "  </thead>\n",
       "  <tbody>\n",
       "    <tr>\n",
       "      <th>0~10</th>\n",
       "      <td>431</td>\n",
       "    </tr>\n",
       "    <tr>\n",
       "      <th>11~20</th>\n",
       "      <td>6604</td>\n",
       "    </tr>\n",
       "    <tr>\n",
       "      <th>21~30</th>\n",
       "      <td>12074</td>\n",
       "    </tr>\n",
       "    <tr>\n",
       "      <th>31~40</th>\n",
       "      <td>8933</td>\n",
       "    </tr>\n",
       "    <tr>\n",
       "      <th>41~50</th>\n",
       "      <td>7491</td>\n",
       "    </tr>\n",
       "    <tr>\n",
       "      <th>51~60</th>\n",
       "      <td>7322</td>\n",
       "    </tr>\n",
       "    <tr>\n",
       "      <th>61~70</th>\n",
       "      <td>3965</td>\n",
       "    </tr>\n",
       "    <tr>\n",
       "      <th>71~80</th>\n",
       "      <td>1086</td>\n",
       "    </tr>\n",
       "    <tr>\n",
       "      <th>81~90</th>\n",
       "      <td>356</td>\n",
       "    </tr>\n",
       "  </tbody>\n",
       "</table>\n",
       "</div>"
      ],
      "text/plain": [
       "         年齡組\n",
       "0~10     431\n",
       "11~20   6604\n",
       "21~30  12074\n",
       "31~40   8933\n",
       "41~50   7491\n",
       "51~60   7322\n",
       "61~70   3965\n",
       "71~80   1086\n",
       "81~90    356"
      ]
     },
     "execution_count": 9,
     "metadata": {},
     "output_type": "execute_result"
    },
    {
     "data": {
      "image/png": "[encoded data removed]",
      "text/plain": [
       "<matplotlib.figure.Figure at 0x1148a2128>"
      ]
     },
     "metadata": {},
     "output_type": "display_data"
    }
   ],
   "source": [
    "bins = [0, 10, 20, 30, 40, 50, 60, 70, 80, 90]\n",
    "group_names = [\"0~10\", \"11~20\", \"21~30\", \"31~40\", \"41~50\", \"51~60\", \"61~70\", \"71~80\", \"81~90\"]\n",
    "tra_df[\"年齡組\"] = pd.cut(tra_df[\"年齡\"], bins, labels=group_names)\n",
    "\n",
    "age_g_df = pd.DataFrame(tra_df[\"年齡組\"].value_counts())\n",
    "sort_age_g_df = age_g_df.sort_index()\n",
    "age_ax = sort_age_g_df.plot(kind=\"barh\", title=\"年齡層發生意外次數\", color=\"#00DDAA\")\n",
    "\n",
    "age_ax.set_xlabel(\"次數\")\n",
    "age_ax.set_ylabel(\"年齡層\")\n",
    "\n",
    "sort_age_g_df\n"
   ]
  },
  {
   "cell_type": "markdown",
   "metadata": {},
   "source": [
    "### 量化非數值型別資料"
   ]
  },
  {
   "cell_type": "code",
   "execution_count": 10,
   "metadata": {
    "collapsed": false,
    "scrolled": true
   },
   "outputs": [
    {
     "data": {
      "text/plain": [
       "肇事地點      int64\n",
       "性別        int64\n",
       "年齡      float64\n",
       "受傷程度    float64\n",
       "天候      float64\n",
       "速限      float64\n",
       "事故位置    float64\n",
       "車種類       int64\n",
       "年齡組       int64\n",
       "dtype: object"
      ]
     },
     "execution_count": 10,
     "metadata": {},
     "output_type": "execute_result"
    }
   ],
   "source": [
    "n_tra_df = tra_df.copy()\n",
    "\n",
    "n_tra_df[\"區序\"] = n_tra_df[\"區序\"].astype(str).str[:2].astype(int)\n",
    "\n",
    "car_indexs, car_labels = pd.factorize(n_tra_df[\"車種類\"])\n",
    "n_tra_df[\"車種類\"] = car_indexs\n",
    "\n",
    "place_indexs, place_labels = pd.factorize(n_tra_df[\"肇事地點\"])\n",
    "n_tra_df[\"肇事地點\"] = place_indexs\n",
    "\n",
    "age_g_indexs, age_g_labels = pd.factorize(n_tra_df[\"年齡組\"])\n",
    "n_tra_df[\"年齡組\"] = age_g_indexs\n",
    "\n",
    "n_tra_df = n_tra_df.drop([\"發生年\", \"發生月\", \"發生日\", \"發生時\", \"發生分\", \"車種\", \"index\", \"道路型態\", \"處理別\", \"當事人序\", \"區序\", \"死亡人數\", \"受傷人數\"], axis=1)\n",
    "\n",
    "n_tra_df.to_csv(\"numeric_traffict_accident.csv\", encoding=\"utf-8\")\n",
    "\n",
    "n_tra_df.dtypes\n",
    "\n"
   ]
  },
  {
   "cell_type": "markdown",
   "metadata": {},
   "source": [
    "### 計算欄位之間的相關程度"
   ]
  },
  {
   "cell_type": "code",
   "execution_count": 11,
   "metadata": {
    "collapsed": false
   },
   "outputs": [
    {
     "data": {
      "text/html": [
       "<div>\n",
       "<table border=\"1\" class=\"dataframe\">\n",
       "  <thead>\n",
       "    <tr style=\"text-align: right;\">\n",
       "      <th></th>\n",
       "      <th>肇事地點</th>\n",
       "      <th>性別</th>\n",
       "      <th>年齡</th>\n",
       "      <th>受傷程度</th>\n",
       "      <th>天候</th>\n",
       "      <th>速限</th>\n",
       "      <th>事故位置</th>\n",
       "      <th>車種類</th>\n",
       "    </tr>\n",
       "  </thead>\n",
       "  <tbody>\n",
       "    <tr>\n",
       "      <th>肇事地點</th>\n",
       "      <td>1.000000</td>\n",
       "      <td>0.009699</td>\n",
       "      <td>0.007314</td>\n",
       "      <td>-0.011744</td>\n",
       "      <td>-0.002114</td>\n",
       "      <td>-0.041926</td>\n",
       "      <td>0.120656</td>\n",
       "      <td>-0.005335</td>\n",
       "    </tr>\n",
       "    <tr>\n",
       "      <th>性別</th>\n",
       "      <td>0.009699</td>\n",
       "      <td>1.000000</td>\n",
       "      <td>0.001812</td>\n",
       "      <td>-0.246965</td>\n",
       "      <td>-0.004512</td>\n",
       "      <td>-0.010387</td>\n",
       "      <td>-0.002888</td>\n",
       "      <td>-0.091717</td>\n",
       "    </tr>\n",
       "    <tr>\n",
       "      <th>年齡</th>\n",
       "      <td>0.007314</td>\n",
       "      <td>0.001812</td>\n",
       "      <td>1.000000</td>\n",
       "      <td>0.201051</td>\n",
       "      <td>0.006985</td>\n",
       "      <td>-0.012485</td>\n",
       "      <td>0.010152</td>\n",
       "      <td>0.295184</td>\n",
       "    </tr>\n",
       "    <tr>\n",
       "      <th>受傷程度</th>\n",
       "      <td>-0.011744</td>\n",
       "      <td>-0.246965</td>\n",
       "      <td>0.201051</td>\n",
       "      <td>1.000000</td>\n",
       "      <td>-0.005013</td>\n",
       "      <td>0.002414</td>\n",
       "      <td>0.013453</td>\n",
       "      <td>0.547171</td>\n",
       "    </tr>\n",
       "    <tr>\n",
       "      <th>天候</th>\n",
       "      <td>-0.002114</td>\n",
       "      <td>-0.004512</td>\n",
       "      <td>0.006985</td>\n",
       "      <td>-0.005013</td>\n",
       "      <td>1.000000</td>\n",
       "      <td>-0.008516</td>\n",
       "      <td>-0.007608</td>\n",
       "      <td>-0.010030</td>\n",
       "    </tr>\n",
       "    <tr>\n",
       "      <th>速限</th>\n",
       "      <td>-0.041926</td>\n",
       "      <td>-0.010387</td>\n",
       "      <td>-0.012485</td>\n",
       "      <td>0.002414</td>\n",
       "      <td>-0.008516</td>\n",
       "      <td>1.000000</td>\n",
       "      <td>-0.033510</td>\n",
       "      <td>0.001407</td>\n",
       "    </tr>\n",
       "    <tr>\n",
       "      <th>事故位置</th>\n",
       "      <td>0.120656</td>\n",
       "      <td>-0.002888</td>\n",
       "      <td>0.010152</td>\n",
       "      <td>0.013453</td>\n",
       "      <td>-0.007608</td>\n",
       "      <td>-0.033510</td>\n",
       "      <td>1.000000</td>\n",
       "      <td>0.020489</td>\n",
       "    </tr>\n",
       "    <tr>\n",
       "      <th>車種類</th>\n",
       "      <td>-0.005335</td>\n",
       "      <td>-0.091717</td>\n",
       "      <td>0.295184</td>\n",
       "      <td>0.547171</td>\n",
       "      <td>-0.010030</td>\n",
       "      <td>0.001407</td>\n",
       "      <td>0.020489</td>\n",
       "      <td>1.000000</td>\n",
       "    </tr>\n",
       "  </tbody>\n",
       "</table>\n",
       "</div>"
      ],
      "text/plain": [
       "          肇事地點        性別        年齡      受傷程度        天候        速限      事故位置  \\\n",
       "肇事地點  1.000000  0.009699  0.007314 -0.011744 -0.002114 -0.041926  0.120656   \n",
       "性別    0.009699  1.000000  0.001812 -0.246965 -0.004512 -0.010387 -0.002888   \n",
       "年齡    0.007314  0.001812  1.000000  0.201051  0.006985 -0.012485  0.010152   \n",
       "受傷程度 -0.011744 -0.246965  0.201051  1.000000 -0.005013  0.002414  0.013453   \n",
       "天候   -0.002114 -0.004512  0.006985 -0.005013  1.000000 -0.008516 -0.007608   \n",
       "速限   -0.041926 -0.010387 -0.012485  0.002414 -0.008516  1.000000 -0.033510   \n",
       "事故位置  0.120656 -0.002888  0.010152  0.013453 -0.007608 -0.033510  1.000000   \n",
       "車種類  -0.005335 -0.091717  0.295184  0.547171 -0.010030  0.001407  0.020489   \n",
       "\n",
       "           車種類  \n",
       "肇事地點 -0.005335  \n",
       "性別   -0.091717  \n",
       "年齡    0.295184  \n",
       "受傷程度  0.547171  \n",
       "天候   -0.010030  \n",
       "速限    0.001407  \n",
       "事故位置  0.020489  \n",
       "車種類   1.000000  "
      ]
     },
     "execution_count": 11,
     "metadata": {},
     "output_type": "execute_result"
    }
   ],
   "source": [
    "corr_df = n_tra_df.copy()\n",
    "corr_df = corr_df.drop([\"年齡組\"], axis=1)\n",
    "\n",
    "corrmat = corr_df.corr()\n",
    "corrmat"
   ]
  },
  {
   "cell_type": "code",
   "execution_count": 21,
   "metadata": {
    "collapsed": false
   },
   "outputs": [
    {
     "data": {
      "image/png": "[encoded data removed]",
      "text/plain": [
       "<matplotlib.figure.Figure at 0x1159a0390>"
      ]
     },
     "metadata": {},
     "output_type": "display_data"
    }
   ],
   "source": [
    "import seaborn as sns\n",
    "import matplotlib\n",
    "\n",
    "sns.set(context=\"talk\", font=\"SimHei\", font_scale=1.5)\n",
    "\n",
    "# Set up the matplotlib figure\n",
    "f, ax = plt.subplots(figsize=(10, 8))\n",
    "\n",
    "# Draw the heatmap using seaborn\n",
    "sns.heatmap(corrmat, vmax=.8, square=True)\n",
    "\n",
    "# Use matplotlib directly to emphasize known networks\n",
    "index_values = corrmat.columns.get_values()\n",
    "for i, value in enumerate(index_values):\n",
    "    if i and value != index_values[i - 1]:\n",
    "        ax.axhline(len(index_values) - i, c=\"w\")\n",
    "        ax.axvline(i, c=\"w\")\n",
    "f.tight_layout()"
   ]
  },
  {
   "cell_type": "markdown",
   "metadata": {},
   "source": [
    "## --- 資料欄位：性別、年齡、車種類，                                        Target：受傷程度 ---"
   ]
  },
  {
   "cell_type": "markdown",
   "metadata": {},
   "source": [
    "### 將Data分為Training Data與Testing Data"
   ]
  },
  {
   "cell_type": "code",
   "execution_count": 13,
   "metadata": {
    "collapsed": false
   },
   "outputs": [],
   "source": [
    "tra_df_X = n_tra_df[[\"年齡組\", \"車種類\", \"性別\"]].copy()\n",
    "tra_df_y = n_tra_df[[\"受傷程度\"]].copy()\n",
    "\n",
    "#turning DataFrame to numpy array\n",
    "tra_X = tra_df_X.as_matrix()\n",
    "tra_y = tra_df_y.as_matrix()\n",
    "\n",
    "indices = np.random.permutation(len(tra_X))\n",
    "\n",
    "tra_X_train = tra_X[indices[:-10000]]\n",
    "tra_y_train = tra_y[indices[:-10000]]\n",
    "tra_X_test = tra_X[indices[-10000:]]\n",
    "tra_y_test = tra_y[indices[-10000:]]\n"
   ]
  },
  {
   "cell_type": "markdown",
   "metadata": {},
   "source": [
    "### Confusion Matrix Plot Function"
   ]
  },
  {
   "cell_type": "code",
   "execution_count": 14,
   "metadata": {
    "collapsed": false
   },
   "outputs": [],
   "source": [
    "def plot_confusion_matrix(df_confusion, title='Confusion matrix', cmap=plt.cm.Greens):\n",
    "    plt.matshow(df_confusion, cmap=cmap) # imshow\n",
    "    #plt.title(title)\n",
    "    plt.colorbar()\n",
    "    tick_marks = np.arange(len(df_confusion.columns))\n",
    "    plt.xticks(tick_marks, df_confusion.columns, rotation=45)\n",
    "    plt.yticks(tick_marks, df_confusion.index)\n",
    "    #plt.tight_layout()\n",
    "    plt.ylabel(df_confusion.index.name)\n",
    "    plt.xlabel(df_confusion.columns.name)\n"
   ]
  },
  {
   "cell_type": "markdown",
   "metadata": {},
   "source": [
    "### 利用PCA降維"
   ]
  },
  {
   "cell_type": "code",
   "execution_count": 15,
   "metadata": {
    "collapsed": false
   },
   "outputs": [
    {
     "data": {
      "image/png": "[encoded data removed]",
      "text/plain": [
       "<matplotlib.figure.Figure at 0x11d31ceb8>"
      ]
     },
     "metadata": {},
     "output_type": "display_data"
    },
    {
     "data": {
      "text/plain": [
       "array([ 0.72287942,  0.2311982 ])"
      ]
     },
     "execution_count": 15,
     "metadata": {},
     "output_type": "execute_result"
    }
   ],
   "source": [
    "from sklearn.decomposition import PCA\n",
    "\n",
    "pca = PCA(n_components=2)\n",
    "pca_tra_X_train = pca.fit_transform(tra_X_train)\n",
    "pca_tra_X_test = pca.fit_transform(tra_X_test)\n",
    "\n",
    "plt.scatter(pca_tra_X_train[:, 0], pca_tra_X_train[:, 1], marker='x')\n",
    "plt.show()\n",
    "\n",
    "pca.explained_variance_ratio_\n"
   ]
  },
  {
   "cell_type": "markdown",
   "metadata": {},
   "source": [
    "### Knn分類"
   ]
  },
  {
   "cell_type": "code",
   "execution_count": 16,
   "metadata": {
    "collapsed": false
   },
   "outputs": [
    {
     "name": "stdout",
     "output_type": "stream",
     "text": [
      "0.8471\n"
     ]
    },
    {
     "data": {
      "text/html": [
       "<div>\n",
       "<table border=\"1\" class=\"dataframe\">\n",
       "  <thead>\n",
       "    <tr style=\"text-align: right;\">\n",
       "      <th>Predicted</th>\n",
       "      <th>2.0</th>\n",
       "      <th>3.0</th>\n",
       "      <th>4.0</th>\n",
       "      <th>All</th>\n",
       "    </tr>\n",
       "    <tr>\n",
       "      <th>Actual</th>\n",
       "      <th></th>\n",
       "      <th></th>\n",
       "      <th></th>\n",
       "      <th></th>\n",
       "    </tr>\n",
       "  </thead>\n",
       "  <tbody>\n",
       "    <tr>\n",
       "      <th>1.0</th>\n",
       "      <td>17</td>\n",
       "      <td>3</td>\n",
       "      <td>0</td>\n",
       "      <td>20</td>\n",
       "    </tr>\n",
       "    <tr>\n",
       "      <th>2.0</th>\n",
       "      <td>5596</td>\n",
       "      <td>402</td>\n",
       "      <td>8</td>\n",
       "      <td>6006</td>\n",
       "    </tr>\n",
       "    <tr>\n",
       "      <th>3.0</th>\n",
       "      <td>706</td>\n",
       "      <td>2836</td>\n",
       "      <td>9</td>\n",
       "      <td>3551</td>\n",
       "    </tr>\n",
       "    <tr>\n",
       "      <th>4.0</th>\n",
       "      <td>204</td>\n",
       "      <td>179</td>\n",
       "      <td>39</td>\n",
       "      <td>422</td>\n",
       "    </tr>\n",
       "    <tr>\n",
       "      <th>5.0</th>\n",
       "      <td>0</td>\n",
       "      <td>1</td>\n",
       "      <td>0</td>\n",
       "      <td>1</td>\n",
       "    </tr>\n",
       "    <tr>\n",
       "      <th>All</th>\n",
       "      <td>6523</td>\n",
       "      <td>3421</td>\n",
       "      <td>56</td>\n",
       "      <td>10000</td>\n",
       "    </tr>\n",
       "  </tbody>\n",
       "</table>\n",
       "</div>"
      ],
      "text/plain": [
       "Predicted   2.0   3.0  4.0    All\n",
       "Actual                           \n",
       "1.0          17     3    0     20\n",
       "2.0        5596   402    8   6006\n",
       "3.0         706  2836    9   3551\n",
       "4.0         204   179   39    422\n",
       "5.0           0     1    0      1\n",
       "All        6523  3421   56  10000"
      ]
     },
     "execution_count": 16,
     "metadata": {},
     "output_type": "execute_result"
    },
    {
     "data": {
      "image/png": "[encoded data removed]",
      "text/plain": [
       "<matplotlib.figure.Figure at 0x11d1769e8>"
      ]
     },
     "metadata": {},
     "output_type": "display_data"
    }
   ],
   "source": [
    "from sklearn.neighbors import KNeighborsClassifier\n",
    "\n",
    "knn = KNeighborsClassifier(n_neighbors=5, weights=\"uniform\")\n",
    "knn.fit(pca_tra_X_train, tra_y_train.ravel())\n",
    "\n",
    "knn_predict_X = knn.predict(pca_tra_X_test)\n",
    "\n",
    "knn_df_confusion = pd.crosstab(tra_y_test.ravel(), knn_predict_X, rownames=['Actual'], colnames=['Predicted'], margins=True)\n",
    "knn_df_conf_norm = knn_df_confusion / knn_df_confusion.sum(axis=1)\n",
    "\n",
    "knn_compared_result = np.equal(knn_predict_X, tra_y_test.ravel())\n",
    "\n",
    "sns.set(context=\"talk\", font=\"SimHei\", font_scale=1)\n",
    "\n",
    "f, ax = plt.subplots(figsize=(6, 4))\n",
    "\n",
    "sns.heatmap(knn_df_confusion, cmap=\"Blues\")\n",
    "\n",
    "index_values = knn_df_confusion.columns.get_values()\n",
    "for i, value in enumerate(index_values):\n",
    "    if i and value != index_values[i - 1]:\n",
    "        ax.axhline(len(index_values) - i, c=\"w\")\n",
    "        ax.axvline(i, c=\"w\")\n",
    "f.tight_layout()\n",
    "\n",
    "#Accuracy Rate the same as knn.score(pca_tra_X_test, tra_y_test.ravel())\n",
    "knn_accuracy_rate = np.count_nonzero(knn_compared_result == True) / len(knn_compared_result)\n",
    "print(knn_accuracy_rate)\n",
    "knn_df_confusion\n"
   ]
  },
  {
   "cell_type": "markdown",
   "metadata": {},
   "source": [
    "### Decision Tree分類"
   ]
  },
  {
   "cell_type": "code",
   "execution_count": 17,
   "metadata": {
    "collapsed": false
   },
   "outputs": [
    {
     "name": "stdout",
     "output_type": "stream",
     "text": [
      "0.8121\n"
     ]
    },
    {
     "data": {
      "text/html": [
       "<div>\n",
       "<table border=\"1\" class=\"dataframe\">\n",
       "  <thead>\n",
       "    <tr style=\"text-align: right;\">\n",
       "      <th>Predicted</th>\n",
       "      <th>2.0</th>\n",
       "      <th>3.0</th>\n",
       "      <th>4.0</th>\n",
       "      <th>All</th>\n",
       "    </tr>\n",
       "    <tr>\n",
       "      <th>Actual</th>\n",
       "      <th></th>\n",
       "      <th></th>\n",
       "      <th></th>\n",
       "      <th></th>\n",
       "    </tr>\n",
       "  </thead>\n",
       "  <tbody>\n",
       "    <tr>\n",
       "      <th>1.0</th>\n",
       "      <td>19</td>\n",
       "      <td>1</td>\n",
       "      <td>0</td>\n",
       "      <td>20</td>\n",
       "    </tr>\n",
       "    <tr>\n",
       "      <th>2.0</th>\n",
       "      <td>5821</td>\n",
       "      <td>175</td>\n",
       "      <td>10</td>\n",
       "      <td>6006</td>\n",
       "    </tr>\n",
       "    <tr>\n",
       "      <th>3.0</th>\n",
       "      <td>1283</td>\n",
       "      <td>2262</td>\n",
       "      <td>6</td>\n",
       "      <td>3551</td>\n",
       "    </tr>\n",
       "    <tr>\n",
       "      <th>4.0</th>\n",
       "      <td>231</td>\n",
       "      <td>153</td>\n",
       "      <td>38</td>\n",
       "      <td>422</td>\n",
       "    </tr>\n",
       "    <tr>\n",
       "      <th>5.0</th>\n",
       "      <td>1</td>\n",
       "      <td>0</td>\n",
       "      <td>0</td>\n",
       "      <td>1</td>\n",
       "    </tr>\n",
       "    <tr>\n",
       "      <th>All</th>\n",
       "      <td>7355</td>\n",
       "      <td>2591</td>\n",
       "      <td>54</td>\n",
       "      <td>10000</td>\n",
       "    </tr>\n",
       "  </tbody>\n",
       "</table>\n",
       "</div>"
      ],
      "text/plain": [
       "Predicted   2.0   3.0  4.0    All\n",
       "Actual                           \n",
       "1.0          19     1    0     20\n",
       "2.0        5821   175   10   6006\n",
       "3.0        1283  2262    6   3551\n",
       "4.0         231   153   38    422\n",
       "5.0           1     0    0      1\n",
       "All        7355  2591   54  10000"
      ]
     },
     "execution_count": 17,
     "metadata": {},
     "output_type": "execute_result"
    },
    {
     "data": {
      "image/png": "[encoded data removed]",
      "text/plain": [
       "<matplotlib.figure.Figure at 0x11d30fa90>"
      ]
     },
     "metadata": {},
     "output_type": "display_data"
    }
   ],
   "source": [
    "from sklearn import tree\n",
    "\n",
    "clf = tree.DecisionTreeClassifier(max_depth=5)\n",
    "clf.fit(pca_tra_X_train, tra_y_train.ravel())\n",
    "\n",
    "clf_predict_X = clf.predict(pca_tra_X_test)\n",
    "\n",
    "clf_df_confusion = pd.crosstab(tra_y_test.ravel(), clf_predict_X, rownames=['Actual'], colnames=['Predicted'], margins=True)\n",
    "clf_df_conf_norm = clf_df_confusion / clf_df_confusion.sum(axis=1)\n",
    "clf_compared_result = np.equal(clf_predict_X, tra_y_test.ravel())\n",
    "\n",
    "# plot_confusion_matrix(clf_df_confusion)\n",
    "sns.set(context=\"talk\", font=\"SimHei\", font_scale=1)\n",
    "# Set up the matplotlib figure\n",
    "f, ax = plt.subplots(figsize=(6, 4))\n",
    "\n",
    "# Draw the heatmap using seaborn\n",
    "sns.heatmap(clf_df_confusion, cmap=\"OrRd\")\n",
    "\n",
    "# Use matplotlib directly to emphasize known networks\n",
    "index_values = clf_df_confusion.columns.get_values()\n",
    "for i, value in enumerate(index_values):\n",
    "    if i and value != index_values[i - 1]:\n",
    "        ax.axhline(len(index_values) - i, c=\"w\")\n",
    "        ax.axvline(i, c=\"w\")\n",
    "f.tight_layout()\n",
    "\n",
    "#Accuracy Rate the same as clf.score(pca_tra_X_test, tra_y_test.ravel())\n",
    "clf_accuracy_rate = np.count_nonzero(clf_compared_result == True) / len(clf_compared_result)\n",
    "print(clf_accuracy_rate)\n",
    "clf_df_confusion\n"
   ]
  }
 ],
 "metadata": {
  "kernelspec": {
   "display_name": "Python 3",
   "language": "python",
   "name": "python3"
  },
  "language_info": {
   "codemirror_mode": {
    "name": "ipython",
    "version": 3
   },
   "file_extension": ".py",
   "mimetype": "text/x-python",
   "name": "python",
   "nbconvert_exporter": "python",
   "pygments_lexer": "ipython3",
   "version": "3.6.0"
  }
 },
 "nbformat": 4,
 "nbformat_minor": 2
}
